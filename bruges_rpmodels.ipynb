{
 "cells": [
  {
   "cell_type": "markdown",
   "metadata": {},
   "source": [
    "# testing rock physics models added to bruges\n",
    "\n",
    "From this pull request: <https://github.com/agile-geoscience/bruges/pull/79>"
   ]
  },
  {
   "cell_type": "code",
   "execution_count": null,
   "metadata": {},
   "outputs": [
    {
     "name": "stdout",
     "output_type": "stream",
     "text": [
      "C:\\Users\\ag19324\\GoogleDrive\\PYTHON\\_GITHUB\\bruges\n"
     ]
    }
   ],
   "source": [
    "import numpy as np\n",
    "import pandas as pd\n",
    "import matplotlib.pyplot as plt\n",
    "import lasio\n",
    "\n",
    "%cd ../bruges\n",
    "import bruges as b\n",
    "%cd ../geophysical_notes"
   ]
  },
  {
   "cell_type": "code",
   "execution_count": null,
   "metadata": {},
   "outputs": [],
   "source": [
    "%load_ext autoreload\n",
    "%autoreload 2"
   ]
  },
  {
   "cell_type": "markdown",
   "metadata": {},
   "source": [
    "### soft sand model\n",
    "\n",
    "Reproducing the results from the example at page 260 of Mavko et al., _The Rock Physics Handbook_ (2009):"
   ]
  },
  {
   "cell_type": "code",
   "execution_count": null,
   "metadata": {},
   "outputs": [],
   "source": [
    "from IPython.display import Image\n",
    "Image(filename='Mavko_2009_pag260.png', width=600)"
   ]
  },
  {
   "cell_type": "markdown",
   "metadata": {},
   "source": [
    "Note that the bulk and shear elastic moduli ($K$ and $\\mu$ from the book's example above, `K` and `G` in the code block below) are in GPa, density is in g/cc, pressure in MPa.\n",
    "\n",
    "When calculating the final velocities with:\n",
    "\n",
    "$$ V_p = \\sqrt{ \\frac{K + 4/3 \\mu}{rho}} ;  V_s = \\sqrt{ \\frac{\\mu}{rho}} $$\n",
    "\n",
    "\n",
    "remember that with these input units the output will be in km/s. To get velocities in m/s just use Pa for the moduli and kg/m3 for density; i.e. `K = K * 1e9` and `rho = rho * 1e3`."
   ]
  },
  {
   "cell_type": "code",
   "execution_count": null,
   "metadata": {},
   "outputs": [],
   "source": [
    "K0,G0,D0 = 36.6,45,2.65\n",
    "sigma=20\n",
    "phi = 0.3\n",
    "\n",
    "Khm,Ghm=b.rockphysics.rpmodels.hertzmindlin(K0, G0, sigma, phi_c=0.36, Cn=9)\n",
    "Kd,Gd=b.rockphysics.rpmodels.softsand(K0, G0, phi, sigma, phi_c=0.36, Cn=9)\n",
    "\n",
    "rho = D0*(1-phi)\n",
    "vp_soft = np.sqrt((Kd+4/3*Gd)/rho)\n",
    "vs_soft = np.sqrt(Gd/rho)\n",
    "\n",
    "print('Hertz-Mindlin pure quartz at effective pressure={} MPa, phi_c={:.2f}: K={:.2f} GPa, G={:.2f} GPa'.format(sigma,.36,Khm,Ghm))\n",
    "print('Soft sand model at porosity={:.2f}: K={:.2f} GPa, G={:.2f} GPa'.format(phi,Kd,Gd))\n",
    "print('Soft sand model velocities at porosity={:.2f}: Vp={:.2f} km/s, Vs={:.2f} km/s, rho={:.3f} g/cc'.format(phi,vp_soft,vs_soft,rho))"
   ]
  },
  {
   "cell_type": "markdown",
   "metadata": {},
   "source": [
    "I think the differences with the example from the book (3.05 GPa instead of 3 for the dry bulk modulus, 2.12 km/s instead of 2.05 for Vp, etc.) are just a consequence of rounding off floats."
   ]
  },
  {
   "cell_type": "markdown",
   "metadata": {},
   "source": [
    "### soft and stiff sand model\n",
    "\n",
    "Reproducing the results from figure 5.4.7 at page 261 of _The Rock Physics Handbook_. Will not bother with Raymer-Hunt-Gardner and intermediate stiff sand models. Use different linewidths to better differentiate between Stiff and Soft Sand models. Also please note that the P-wave modulus is $K + 4/3 \\mu = \\rho {V_p}^2$."
   ]
  },
  {
   "cell_type": "code",
   "execution_count": null,
   "metadata": {},
   "outputs": [],
   "source": [
    "Image(filename='Mavko_2009_fig547.png', width=800)"
   ]
  },
  {
   "cell_type": "code",
   "execution_count": null,
   "metadata": {},
   "outputs": [],
   "source": [
    "phi = np.linspace(0,0.36,200)\n",
    "\n",
    "Kd_soft,Gd_soft=b.rockphysics.rpmodels.softsand(K0, G0, phi, sigma, phi_c=0.36, Cn=9)\n",
    "Kd_stiff,Gd_stiff=b.rockphysics.rpmodels.stiffsand(K0, G0, phi, sigma, phi_c=0.36, Cn=9)\n",
    "\n",
    "rho = D0*(1-phi)\n",
    "vp_soft = np.sqrt((Kd_soft+4/3*Gd_soft)/rho)\n",
    "vs_soft = np.sqrt(Gd_soft/rho)\n",
    "\n",
    "vp_stiff = np.sqrt((Kd_stiff+4/3*Gd_stiff)/rho)\n",
    "vs_stiff = np.sqrt(Gd_stiff/rho)\n",
    "\n",
    "\n",
    "f,ax=plt.subplots(1,2,figsize=(10,8))\n",
    "ax[0].plot(phi,Kd_soft+4/3*Gd_soft, '-k', lw=1, label='P-wave modulus Soft Sand')\n",
    "ax[0].plot(phi,Kd_stiff+4/3*Gd_soft, '-k', lw=3, label='P-wave modulus Stiff Sand')\n",
    "ax[0].plot(phi,Gd_soft, '--k', lw=1, label='Shear Modulus Soft Sand')\n",
    "ax[0].plot(phi,Gd_stiff, '--k', lw=3, label='Shear Modulus Stiff Sand')\n",
    "\n",
    "ax[1].plot(phi,vp_soft, '-k', lw=1, label='Vp Soft Sand')\n",
    "ax[1].plot(phi,vp_stiff, '-k', lw=3, label='Vp Stiff Sand')\n",
    "ax[1].plot(phi,vs_soft, '--k', lw=1, label='Vs Soft Sand')\n",
    "ax[1].plot(phi,vs_stiff, '--k', lw=3, label='Vs Stiff Sand')\n",
    "\n",
    "# ax[1].plot(phi,Gd_soft, '--k', lw=1, label='Shear Modulus Soft Sand')\n",
    "# ax[1].plot(phi,Gd_stiff, '--k', lw=3, label='Shear Modulus Stiff Sand')\n",
    "\n",
    "#ax[0].plot(phi,vp_soft, label='soft sand model')\n",
    "#ax[0].plot(phi,vp_stiff, label='stiff sand model')\n",
    "ax[0].set_ylim(0,100)\n",
    "ax[1].set_ylim(0,6.5)\n",
    "ax[0].set_ylabel('Modulus (GPa)')\n",
    "ax[1].set_ylabel('Velocity (km/s)')\n",
    "ax[1].yaxis.tick_right()\n",
    "ax[1].yaxis.set_label_position('right')\n",
    "for aa in ax:\n",
    "    aa.set_xlim(0,0.4)\n",
    "    aa.legend(fontsize='medium')\n",
    "    aa.grid()\n",
    "    aa.set_xlabel('Porosity')\n",
    "f.suptitle('Mavko et al. (2009), Fig. 5.4.7, p.261');"
   ]
  },
  {
   "cell_type": "markdown",
   "metadata": {},
   "source": [
    "### contact cement model\n",
    "\n",
    "Reproducing the results from Dvorkin & Nur, _Elasticity of High-Porosity Sandstones: Theory for Two North Sea Data Sets_, Geophysics (1996), figure 5. The three subplots only differ for the plot of the Oseberg samples at different confining pressures, but it is only relevent for this exercise comparing the plots of the theoretical models which are the same for the three plots."
   ]
  },
  {
   "cell_type": "code",
   "execution_count": null,
   "metadata": {},
   "outputs": [],
   "source": [
    "Image(filename='Dvorkin-Nur_1996_fig5.png', width=800)"
   ]
  },
  {
   "cell_type": "code",
   "execution_count": null,
   "metadata": {},
   "outputs": [],
   "source": [
    "K0,G0,D0 = 38,44,2.65\n",
    "phi = np.linspace(0.15,0.4,200)\n",
    "\n",
    "rho = D0*(1-phi)\n",
    "Kc, Gc = 36.6, 45 # quartz cement\n",
    "Kd,Gd=b.rockphysics.rpmodels.contactcement(K0, G0, phi, Kc=Kc, Gc=Gc)\n",
    "vp_cc_qtz = np.sqrt((Kd+4/3*Gd)/rho)\n",
    "vs_cc_qtz = np.sqrt(Gd/rho)\n",
    "\n",
    "Kc, Gc = 21, 7 # clay cement\n",
    "Kd,Gd=b.rockphysics.rpmodels.contactcement(K0, G0, phi, Kc=Kc, Gc=Gc)\n",
    "vp_cc_cl = np.sqrt((Kd+4/3*Gd)/rho)\n",
    "vs_cc_cl = np.sqrt(Gd/rho)\n",
    "\n",
    "f,ax=plt.subplots(figsize=(5,6))\n",
    "ax.plot(phi,vp_cc_qtz, 'k-', label='contact cement model, cement=qtz')\n",
    "ax.plot(phi,vs_cc_qtz, 'k--', label='contact cement model, cement=qtz')\n",
    "ax.plot(phi,vp_cc_cl, 'r-', label='contact cement model, cement=clay')\n",
    "ax.plot(phi,vs_cc_cl, 'r--', label='contact cement model, cement=clay')\n",
    "ax.set_xlim(0,0.4)\n",
    "ax.set_ylim(0,5)\n",
    "ax.set_xlabel('Porosity')\n",
    "ax.set_ylabel('Velocities (km/s)')\n",
    "ax.legend(fontsize='medium')\n",
    "ax.grid()\n",
    "ax.set_title('Dvorkin & Nur (1996), fig.5');"
   ]
  },
  {
   "cell_type": "markdown",
   "metadata": {},
   "source": [
    "### Vernik & Kachanov consolidated sandstone model\n",
    "\n",
    "Reproducing the results from Vernik & Kachanov, _Modeling Elastic Properties of Siliciclastic Rocks_, Geophysics (2010), figure 4."
   ]
  },
  {
   "cell_type": "code",
   "execution_count": null,
   "metadata": {},
   "outputs": [],
   "source": [
    "Image(filename='Vernik_2010_fig4.png', width=400)"
   ]
  },
  {
   "cell_type": "code",
   "execution_count": null,
   "metadata": {},
   "outputs": [],
   "source": [
    "K0,G0 = 35.7,33\n",
    "phi = np.linspace(0,.5,200)\n",
    "\n",
    "Kd_10, Gd_10 = b.rockphysics.rpmodels.vernik_csm(K0,G0,phi,sigma=10)\n",
    "Kd_20, Gd_20 = b.rockphysics.rpmodels.vernik_csm(K0,G0,phi,sigma=20)\n",
    "Kd_50, Gd_50 = b.rockphysics.rpmodels.vernik_csm(K0,G0,phi,sigma=50)\n",
    "\n",
    "f,ax=plt.subplots(figsize=(6,6))\n",
    "ax.plot(phi,Kd_10+4/3*Gd_10,'-g', label='M-modulus 10Mpa')\n",
    "ax.plot(phi,Kd_20+4/3*Gd_20,'-b', label='M-modulus 20Mpa')\n",
    "ax.plot(phi,Kd_50+4/3*Gd_50,'-r', label='M-modulus 50Mpa')\n",
    "ax.plot(phi,Gd_10,'--g', label='G-modulus 10Mpa')\n",
    "ax.plot(phi,Gd_20,'--b', label='G-modulus 20Mpa')\n",
    "ax.plot(phi,Gd_50,'--r', label='G-modulus 50Mpa')\n",
    "ax.set_xlim(0,0.4)\n",
    "ax.set_ylim(0,80)\n",
    "ax.set_xlabel('Porosity')\n",
    "ax.set_ylabel('Dry moduli (GPa)')\n",
    "ax.legend(fontsize='medium')\n",
    "ax.grid()\n",
    "ax.set_title('Vernik & Kachanov (2010), fig.4\\nConsolidated Sandstone Model (CSM)');"
   ]
  },
  {
   "cell_type": "markdown",
   "metadata": {},
   "source": [
    "### Vernik & Kachanov sandstone diagenesis model\n",
    "\n",
    "Reproducing the results from Vernik & Kachanov, _Modeling Elastic Properties of Siliciclastic Rocks_, Geophysics (2010), figure 5."
   ]
  },
  {
   "cell_type": "code",
   "execution_count": null,
   "metadata": {},
   "outputs": [],
   "source": [
    "Image(filename='Vernik_2010_fig5.png', width=400)"
   ]
  },
  {
   "cell_type": "code",
   "execution_count": null,
   "metadata": {},
   "outputs": [],
   "source": [
    "K0,G0,D0 = 35.7,33,2.65\n",
    "phi = np.linspace(0,.4,200)\n",
    "\n",
    "rho = D0*(1-phi)\n",
    "Kd, Gd = b.rockphysics.rpmodels.vernik_sdm(K0,G0,phi,sigma=50,phi_c=0.4,phi_con=0.3)\n",
    "vp = np.sqrt((Kd + 4/3*Gd)/rho)\n",
    "vs = np.sqrt(Gd/rho)\n",
    "\n",
    "f,ax=plt.subplots(figsize=(6,6))\n",
    "ax.plot(phi,vp,'-r', label='Vp')\n",
    "ax.plot(phi,vs,'-g', label='Vs')\n",
    "ax.set_xlim(0,0.4)\n",
    "ax.set_ylim(0,6)\n",
    "ax.set_xlabel('Porosity')\n",
    "ax.set_ylabel('Dry velocities (km/s)')\n",
    "ax.legend(fontsize='medium')\n",
    "ax.grid()\n",
    "ax.set_title('Vernik & Kachanov (2010), fig.5\\nSand Diagenesis Model (SDM)');"
   ]
  },
  {
   "cell_type": "markdown",
   "metadata": {},
   "source": [
    "### Vernik & Kachanov shale model\n",
    "\n",
    "Reproducing the results from Vernik & Kachanov, _Modeling Elastic Properties of Siliciclastic Rocks_, Geophysics (2010), figure 11."
   ]
  },
  {
   "cell_type": "code",
   "execution_count": null,
   "metadata": {},
   "outputs": [],
   "source": [
    "Image(filename='Vernik_2010_fig11.png', width=400)"
   ]
  },
  {
   "cell_type": "code",
   "execution_count": null,
   "metadata": {},
   "outputs": [],
   "source": [
    "vv = np.linspace(0.2,0.8,6)\n",
    "phi = np.linspace(0.01,0.4,200)\n",
    "\n",
    "f,ax=plt.subplots(figsize=(6,6))\n",
    "for i in vv:\n",
    "    vp, vs, rho = b.rockphysics.rpmodels.vernik_shale(i, phi)\n",
    "    ax.plot(phi,vp,'-k', lw=3)\n",
    "    ax.plot(phi,vs,'-k', lw=1) \n",
    "ax.set_xlim(0,0.4)\n",
    "ax.set_ylim(0,5e3)\n",
    "ax.set_xlabel('Porosity')\n",
    "ax.set_ylabel('velocities (m/s)')\n",
    "# ax.legend(fontsize='medium')\n",
    "ax.grid()\n",
    "ax.set_title('Vernik & Kachanov (2010), fig.11\\nShale Model (thick=Vp, thin=Vs)');"
   ]
  },
  {
   "cell_type": "markdown",
   "metadata": {},
   "source": [
    "### Vernik & Kachanov soft sand model 2\n",
    "\n",
    "Reproducing the results from Vernik & Kachanov, _Modeling Elastic Properties of Siliciclastic Rocks_, Geophysics (2010), figure 9. Only the \"consolidated sand model\" lines will be plotted. The Soft Sand Model 2 as it is called in the library, can be found at eq.14 in the paper:\n",
    "\n",
    "$$ M_{dry} = M_0 \\Big( 1 + p \\frac{\\phi}{1-phi} \\Big)^{-1}  $$\n",
    "\n",
    "$$ G_{dry} = G_0 \\Big( 1 + q \\frac{\\phi}{1-phi} \\Big)^{-1}  $$\n",
    "    "
   ]
  },
  {
   "cell_type": "code",
   "execution_count": null,
   "metadata": {},
   "outputs": [],
   "source": [
    "Image(filename='Vernik_2010_fig9.png', width=400)"
   ]
  },
  {
   "cell_type": "code",
   "execution_count": null,
   "metadata": {},
   "outputs": [],
   "source": [
    "K0,G0,D0 = 35.6,33,2.65\n",
    "phi= np.linspace(0,0.4,200)\n",
    "poreshape=[4,6,10,18,45]\n",
    "Kf, Df = 3.20, 1.05\n",
    "\n",
    "f,ax=plt.subplots(figsize=(6,6))\n",
    "for mm in poreshape:\n",
    "    Kd, Gd = b.rockphysics.rpmodels.vernik_ssm2(K0,G0,phi,p=mm,q=mm)\n",
    "    vp,*_ = b.rockphysics.rpmodels.vels(Kd,Gd,K0,D0,Kf,Df,phi)\n",
    "    ax.plot(phi,vp/1e3, label='SSM2, pore shape={}'.format(mm))\n",
    "ax.set_xlim(0,0.4)\n",
    "ax.set_ylim(1.5,5.5)\n",
    "ax.set_xlabel('Porosity')\n",
    "ax.set_ylabel('Velocities (km/s)')\n",
    "ax.legend(fontsize='medium')\n",
    "ax.grid()\n",
    "ax.set_title('Vernik & Kachanov (2010), fig.9\\nSoft Sand Model 2');"
   ]
  },
  {
   "cell_type": "markdown",
   "metadata": {},
   "source": [
    "## create synthetic logs\n",
    "\n",
    "A small example on how to create Vp, Vs and density logs from scratch, using a rock physics model:\n",
    "\n",
    "1. assign mineral and fluid elastic parameters.\n",
    "2. create arbitrary depth array.\n",
    "3. initialize petrophysical volume logs: porosity (`phi`), shale and sand volumes (`vsh`, `vqz`), water saturation (`sw`).\n",
    "4. assume that the entire log is shale, then define an interval where we want to place reservoir sands (`res`, identified by the interval `top`-`base`).\n",
    "5. assign 30% porosity and 10% water saturation in the reservoir interval, outside of it they will be 0% and 100%.\n",
    "6. add some random variations to the porosity and water saturation logs.\n",
    "7. fill in the mineralogical volumes by assigning some very low random numbers to the sand volume, then increasing it by about 40% in the reservoir interval, and replacing the rest with shale volume with the constraint that `phi + vsh + vqz = 1`.\n",
    "\n",
    "_...continues below..._"
   ]
  },
  {
   "cell_type": "code",
   "execution_count": null,
   "metadata": {},
   "outputs": [],
   "source": [
    "#--- elastic moduli for minerals and fluids\n",
    "#--- bulk and shear moduli in GPa, density in g/cc\n",
    "Dsh, Ksh, Gsh    = 2.4, 15, 5\n",
    "Dqz, Kqz, Gqz    = 2.6, 37, 44\n",
    "Dcar, Kcar, Gcar = 2.7, 76, 32\n",
    "Dcar, Kcar, Gcar = 2.2, 20, 10\n",
    "Db, Kb = 1.1, 2.2\n",
    "Do, Ko = 0.8, 1.5\n",
    "Dg, Kg = 0.2, 0.06\n",
    "hc='gas'\n",
    "if hc=='oil':\n",
    "    Dhc, Khc = Do, Ko\n",
    "else:\n",
    "    Dhc, Khc = Dg, Kg\n",
    "    \n",
    "#--- creates dummy depth scale and empty petrophysical logs\n",
    "ns=100\n",
    "top,base=30,50\n",
    "z=np.arange(ns)\n",
    "phi,vsh,vqz = (np.zeros(ns) for _ in range(3))\n",
    "sw = np.ones(ns)\n",
    "\n",
    "#--- cuts out a reservoir section between top and base\n",
    "#--- and assigns higher porosity and lower Sw\n",
    "res = (z>=top) & (z<base)\n",
    "phi[res] = 0.3\n",
    "sw[res] = 0.1\n",
    "ns_res = np.count_nonzero(res)\n",
    "\n",
    "#--- adds random variations to Phi and Sw\n",
    "phi[~res] += np.random.rand(ns-ns_res)*.05\n",
    "phi[res] += np.random.rand(ns_res)*.2\n",
    "sw[res] -= np.random.rand(ns_res)*.1\n",
    "\n",
    "#--- fills in mineralogical fraction volumes\n",
    "vqz = np.random.rand(ns)*.15*(1-phi)\n",
    "vqz[res] += .4\n",
    "vsh = 1-phi-vqz"
   ]
  },
  {
   "cell_type": "markdown",
   "metadata": {},
   "source": [
    "_..._\n",
    "\n",
    "8. Normalize mineral volumes and calculate average matrix mineral properties using the Voigt-Reuss-Hill average (`bruges.rockphysics.vrh`) for bulk (`K0`) and shear (`G0`) elastic moduli\n",
    "9. calculate average fluid properties using the Reuss average\n",
    "\n",
    "_...continues below..._"
   ]
  },
  {
   "cell_type": "code",
   "execution_count": null,
   "metadata": {},
   "outputs": [],
   "source": [
    "#--- normalize mineral volumes\n",
    "vshN = vsh/(1-phi)\n",
    "vqzN = vqz/(1-phi)\n",
    "\n",
    "#--- computes rock matrix elastic moduli via Voigt-Reuss-Hill average\n",
    "K0 = b.rockphysics.vrh(Ksh,Kqz,vshN)\n",
    "G0 = b.rockphysics.vrh(Gsh,Gqz,vshN)\n",
    "D0 = vshN*Dsh+vqzN*Dqz\n",
    "\n",
    "#--- computes total fluid elastic moduli via Reuss average\n",
    "f = np.array([sw,1-sw]).T\n",
    "k = np.resize(np.array([Kb,Khc]),np.shape(f))\n",
    "Kf = 1./np.sum(f/k,axis=1)\n",
    "Df = sw*Db+(1-sw)*Dhc"
   ]
  },
  {
   "cell_type": "markdown",
   "metadata": {},
   "source": [
    "_..._\n",
    "\n",
    "10. use the Soft Sand model (`bruges.rockphysics.rpmodels.softsand`) to calculate dry rock properties then the final saturated velocities using Gassmann's equation (`bruges.rockphysics.rpmodels.vels`)\n",
    "11. assemble all these synthetic logs into a Pandas DataFrame to inspect, plot etc"
   ]
  },
  {
   "cell_type": "code",
   "execution_count": null,
   "metadata": {},
   "outputs": [],
   "source": [
    "#--- use soft sand model to create velocities and density logs\n",
    "Kdry, Gdry = b.rockphysics.rpmodels.softsand(K0, G0, phi, sigma)\n",
    "#Kdry, Gdry = squit.rp.stiffsand(K0, G0, phi, sigma=20)\n",
    "vp,vs,rho,_= b.rockphysics.rpmodels.vels(Kdry,Gdry,K0,D0,Kf,Df,phi)\n",
    "\n",
    "#--- assemble everything into a Pandas DataFrame\n",
    "temp={'VQZ':vqz,'VSH':vsh,'PHIE':phi,'SWE':sw,'VP':vp,'VS':vs,'RHO':rho}\n",
    "ww = pd.DataFrame(data=temp, index=z)\n",
    "ww.index.rename('DEPTH', inplace=True)"
   ]
  },
  {
   "cell_type": "markdown",
   "metadata": {},
   "source": [
    "For example, these are the final velocities and density averaged over the entire sequence. Using another rock physics model (e.g., Stiff Sand instead of Soft Sand) we would obtain higher values."
   ]
  },
  {
   "cell_type": "code",
   "execution_count": null,
   "metadata": {},
   "outputs": [],
   "source": [
    "ww[['VP','VS','RHO']].describe()"
   ]
  },
  {
   "cell_type": "markdown",
   "metadata": {},
   "source": [
    "And finally using the `plot` method of Pandas we can easily get a rough summary plot of this synthetic dataset."
   ]
  },
  {
   "cell_type": "code",
   "execution_count": null,
   "metadata": {},
   "outputs": [],
   "source": [
    "ww.plot(subplots=True,figsize=(10,8), grid=True);"
   ]
  },
  {
   "cell_type": "markdown",
   "metadata": {},
   "source": [
    "**Exercises**\n",
    "\n",
    "* create another dataset using a different rock physics model\n",
    "* perform fluid replacement on the two datasets\n",
    "* compare results\n",
    "* calculate AVO curves at top reservoir"
   ]
  }
 ],
 "metadata": {
  "kernelspec": {
   "display_name": "Python 3",
   "language": "python",
   "name": "python3"
  },
  "language_info": {
   "codemirror_mode": {
    "name": "ipython",
    "version": 3
   },
   "file_extension": ".py",
   "mimetype": "text/x-python",
   "name": "python",
   "nbconvert_exporter": "python",
   "pygments_lexer": "ipython3",
   "version": "3.7.2"
  }
 },
 "nbformat": 4,
 "nbformat_minor": 2
}
